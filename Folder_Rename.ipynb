{
  "nbformat": 4,
  "nbformat_minor": 0,
  "metadata": {
    "colab": {
      "provenance": [],
      "authorship_tag": "ABX9TyOVkFH3OmP69G1R43bX9/uE",
      "include_colab_link": true
    },
    "kernelspec": {
      "name": "python3",
      "display_name": "Python 3"
    },
    "language_info": {
      "name": "python"
    }
  },
  "cells": [
    {
      "cell_type": "markdown",
      "metadata": {
        "id": "view-in-github",
        "colab_type": "text"
      },
      "source": [
        "<a href=\"https://colab.research.google.com/github/PAPANPANG/PAPANPANG/blob/main/Folder_Rename.ipynb\" target=\"_parent\"><img src=\"https://colab.research.google.com/assets/colab-badge.svg\" alt=\"Open In Colab\"/></a>"
      ]
    },
    {
      "cell_type": "code",
      "execution_count": 2,
      "metadata": {
        "colab": {
          "base_uri": "https://localhost:8080/"
        },
        "id": "NpsIG1YOO_zK",
        "outputId": "a827ccea-e730-4734-98d4-660401753132"
      },
      "outputs": [
        {
          "output_type": "stream",
          "name": "stdout",
          "text": [
            "Drive already mounted at /content/drive; to attempt to forcibly remount, call drive.mount(\"/content/drive\", force_remount=True).\n",
            "文件复制和重命名完成。\n"
          ]
        }
      ],
      "source": [
        "import os\n",
        "from google.colab.patches import cv2_imshow  # alternative is required as cv2.imshow() does not work in Colab\n",
        "from shutil import copy2\n",
        "from google.colab import drive\n",
        "drive.mount('/content/drive')\n",
        "\n",
        "# 源文件夹路径\n",
        "source_folder = '/content/drive/MyDrive/psy/100/C/100_1'\n",
        "\n",
        "# 目标文件夹路径\n",
        "target_folder = '/content/drive/MyDrive/psy/100/C/100_1_1'\n",
        "\n",
        "# 如果目标文件夹不存在，则创建它\n",
        "if not os.path.exists(target_folder):\n",
        "    os.makedirs(target_folder)\n",
        "\n",
        "# 获取源文件夹中所有文件的列表\n",
        "files = os.listdir(source_folder)\n",
        "# 过滤掉文件夹，只保留文件\n",
        "files = [f for f in files if os.path.isfile(os.path.join(source_folder, f))]\n",
        "\n",
        "# 按照文件名中的数字进行排序\n",
        "def extract_number(filename):\n",
        "    main_part = filename.split('_')[0]\n",
        "    if main_part.isdigit():\n",
        "        return int(main_part)\n",
        "    return float('inf')  # 如果没有数字，则放在列表末尾\n",
        "\n",
        "files.sort(key=extract_number)\n",
        "\n",
        "# 初始化文件序号\n",
        "file_number = 0\n",
        "\n",
        "# 遍历排序后的文件列表\n",
        "for filename in files:\n",
        "    # 提取文件扩展名\n",
        "    ext = os.path.splitext(filename)[1]\n",
        "    # 创建新的文件名\n",
        "    new_filename = f\"{file_number}{ext}\"\n",
        "\n",
        "    # 源文件的完整路径\n",
        "    old_file = os.path.join(source_folder, filename)\n",
        "    # 目标文件的完整路径\n",
        "    new_file = os.path.join(target_folder, new_filename)\n",
        "\n",
        "    # 复制并重命名文件到目标文件夹\n",
        "    copy2(old_file, new_file)\n",
        "\n",
        "    # 更新文件序号\n",
        "    file_number += 1\n",
        "\n",
        "print(\"文件复制和重命名完成。\")"
      ]
    }
  ]
}