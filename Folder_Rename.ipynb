{
  "nbformat": 4,
  "nbformat_minor": 0,
  "metadata": {
    "colab": {
      "provenance": [],
      "authorship_tag": "ABX9TyOwSELYtU9HYaXi8q4pn4zs",
      "include_colab_link": true
    },
    "kernelspec": {
      "name": "python3",
      "display_name": "Python 3"
    },
    "language_info": {
      "name": "python"
    }
  },
  "cells": [
    {
      "cell_type": "markdown",
      "metadata": {
        "id": "view-in-github",
        "colab_type": "text"
      },
      "source": [
        "<a href=\"https://colab.research.google.com/github/PAPANPANG/PAPANPANG/blob/main/Folder_Rename.ipynb\" target=\"_parent\"><img src=\"https://colab.research.google.com/assets/colab-badge.svg\" alt=\"Open In Colab\"/></a>"
      ]
    },
    {
      "cell_type": "code",
      "execution_count": 2,
      "metadata": {
        "colab": {
          "base_uri": "https://localhost:8080/"
        },
        "id": "NpsIG1YOO_zK",
        "outputId": "ea89d4df-850f-472c-8944-cf2ba725b013"
      },
      "outputs": [
        {
          "output_type": "stream",
          "name": "stdout",
          "text": [
            "Drive already mounted at /content/drive; to attempt to forcibly remount, call drive.mount(\"/content/drive\", force_remount=True).\n",
            "文件重命名完成。\n"
          ]
        }
      ],
      "source": [
        "import os\n",
        "from google.colab.patches import cv2_imshow  # alternative is required as cv2.imshow() does not work in Colab\n",
        "from google.colab import drive\n",
        "drive.mount('/content/drive')\n",
        "\n",
        "# 源文件夹路径\n",
        "source_folder = '/content/drive/MyDrive/PIX/011'\n",
        "\n",
        "# 获取文件夹中所有文件的列表\n",
        "files = os.listdir(source_folder)\n",
        "\n",
        "# 初始化文件序号\n",
        "file_number = 0\n",
        "\n",
        "# 遍历文件列表并重命名每个文件\n",
        "for filename in files:\n",
        "    # 创建文件的新名称，假设文件是.jpg格式，如果不是，你需要相应修改\n",
        "    new_filename = f\"{file_number}.png\"\n",
        "\n",
        "    # 源文件的完整路径\n",
        "    old_file = os.path.join(source_folder, filename)\n",
        "\n",
        "    # 新文件的完整路径\n",
        "    new_file = os.path.join(source_folder, new_filename)\n",
        "\n",
        "    # 重命名文件\n",
        "    os.rename(old_file, new_file)\n",
        "\n",
        "    # 更新文件序号\n",
        "    file_number += 1\n",
        "\n",
        "print(\"文件重命名完成。\")"
      ]
    }
  ]
}