{
  "nbformat": 4,
  "nbformat_minor": 0,
  "metadata": {
    "colab": {
      "provenance": [],
      "authorship_tag": "ABX9TyNGpIXsxI36ke2bqaRBSLIa",
      "include_colab_link": true
    },
    "kernelspec": {
      "name": "python3",
      "display_name": "Python 3"
    },
    "language_info": {
      "name": "python"
    }
  },
  "cells": [
    {
      "cell_type": "markdown",
      "metadata": {
        "id": "view-in-github",
        "colab_type": "text"
      },
      "source": [
        "<a href=\"https://colab.research.google.com/github/PAPANPANG/PAPANPANG/blob/main/Untitled4.ipynb\" target=\"_parent\"><img src=\"https://colab.research.google.com/assets/colab-badge.svg\" alt=\"Open In Colab\"/></a>"
      ]
    },
    {
      "cell_type": "code",
      "execution_count": 19,
      "metadata": {
        "colab": {
          "base_uri": "https://localhost:8080/"
        },
        "id": "xraBzKLaBO8f",
        "outputId": "0615b150-62fd-4fec-f3db-2ba83131b201"
      },
      "outputs": [
        {
          "output_type": "stream",
          "name": "stdout",
          "text": [
            "Drive already mounted at /content/drive; to attempt to forcibly remount, call drive.mount(\"/content/drive\", force_remount=True).\n",
            "图片分割完成。\n"
          ]
        }
      ],
      "source": [
        "from PIL import Image\n",
        "import os\n",
        "from google.colab.patches import cv2_imshow  # alternative is required as cv2.imshow() does not work in Colab\n",
        "from google.colab import drive\n",
        "drive.mount('/content/drive')\n",
        "\n",
        "# 源文件夹和目标文件夹路径\n",
        "source_folder = '/content/drive/MyDrive/1/'\n",
        "target_folder = '/content/drive/MyDrive/11/'\n",
        "\n",
        "# 确保目标文件夹存在\n",
        "if not os.path.exists(target_folder):\n",
        "    os.makedirs(target_folder)\n",
        "\n",
        "# 遍历源文件夹中的所有图片\n",
        "for filename in os.listdir(source_folder):\n",
        "    if filename.endswith( '.jpg'): # 根据需要添加或删除文件格式\n",
        "        img_path = os.path.join(source_folder, filename)\n",
        "        img = Image.open(img_path)\n",
        "\n",
        "        # 分割图片\n",
        "        for i in range(0, img.width, 256):  # 假设所有图片宽度都是512\n",
        "            for j in range(0, img.height, 256):  # 假设所有图片高度都是256\n",
        "                # 定义裁剪区域\n",
        "                box = (i, j, i+256, j+256)\n",
        "                cropped_img = img.crop(box)\n",
        "                # 构造新的图片名称和路径\n",
        "                cropped_img_path = os.path.join(target_folder, f'{filename.split(\".\")[0]}_{i}_{j}.png')\n",
        "                # 保存裁剪后的图片\n",
        "                cropped_img.save(cropped_img_path)\n",
        "\n",
        "print(\"图片分割完成。\")\n"
      ]
    },
    {
      "cell_type": "code",
      "source": [
        "# 源文件夹和目标文件夹路径\n",
        "source_folder = '/content/drive/MyDrive/2/'\n",
        "target_folder = '/content/drive/MyDrive/22/'\n",
        "\n",
        "# 确保目标文件夹存在\n",
        "if not os.path.exists(target_folder):\n",
        "    os.makedirs(target_folder)\n",
        "\n",
        "# 遍历源文件夹中的所有图片\n",
        "for filename in os.listdir(source_folder):\n",
        "    if filename.endswith( '.jpg'): # 根据需要添加或删除文件格式\n",
        "        img_path = os.path.join(source_folder, filename)\n",
        "        img = Image.open(img_path)\n",
        "\n",
        "        # 分割图片\n",
        "        for i in range(0, img.width, 256):  # 假设所有图片宽度都是512\n",
        "            for j in range(0, img.height, 256):  # 假设所有图片高度都是256\n",
        "                # 定义裁剪区域\n",
        "                box = (i, j, i+256, j+256)\n",
        "                cropped_img = img.crop(box)\n",
        "                # 构造新的图片名称和路径\n",
        "                cropped_img_path = os.path.join(target_folder, f'{filename.split(\".\")[0]}_{i}_{j}.png')\n",
        "                # 保存裁剪后的图片\n",
        "                cropped_img.save(cropped_img_path)\n",
        "\n",
        "print(\"图片分割完成。\")"
      ],
      "metadata": {
        "id": "s_8nSOGvKsid",
        "outputId": "5fd65538-f640-4227-d9b7-1c53f5e1eb1f",
        "colab": {
          "base_uri": "https://localhost:8080/"
        }
      },
      "execution_count": 20,
      "outputs": [
        {
          "output_type": "stream",
          "name": "stdout",
          "text": [
            "图片分割完成。\n"
          ]
        }
      ]
    }
  ]
}